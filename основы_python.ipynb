{
 "cells": [
  {
   "cell_type": "markdown",
   "metadata": {
    "id": "M-DGa20PaHnu"
   },
   "source": [
    "#Задача 1\n",
    "Написать функцию на вход которой подается строка, состоящая из латинских букв.\n",
    "Функция должна вернуть количество гласных букв (a, e, i, o, u) в этой строке. Написать тесты для кода"
   ]
  },
  {
   "cell_type": "code",
   "execution_count": 1,
   "metadata": {
    "id": "XvX8X_JJ6PCb"
   },
   "outputs": [
    {
     "name": "stdout",
     "output_type": "stream",
     "text": [
      "4\n",
      "9\n",
      "0\n",
      "0\n"
     ]
    }
   ],
   "source": [
    "def check(string):\n",
    "    return sum(1 for i in string if i in ['a', 'e', 'i', 'o', 'u', 'y'])\n",
    "\n",
    "def test_random():\n",
    "    return check('aljsdgljasiendlnf')\n",
    "\n",
    "def test_only():\n",
    "    return check('aoaoaouiy')\n",
    "\n",
    "def test_none():\n",
    "    return check('1234dfghb')\n",
    "\n",
    "def test_null():\n",
    "    return check('')\n",
    "\n",
    "print(test_random())\n",
    "print(test_only())\n",
    "print(test_none())\n",
    "print(test_null())"
   ]
  },
  {
   "cell_type": "markdown",
   "metadata": {
    "id": "t2ClV_Y0bbr6"
   },
   "source": [
    "# Задача 2\n",
    "Написать функцию на вход, которой подается строка. Функция должна вернуть true, если\n",
    "каждый символ в строке встречается только 1 раз, иначе должна вернуть false. Написать тесты для кода"
   ]
  },
  {
   "cell_type": "code",
   "execution_count": 2,
   "metadata": {
    "id": "FppbECao6VIz"
   },
   "outputs": [
    {
     "name": "stdout",
     "output_type": "stream",
     "text": [
      "False\n",
      "False\n",
      "True\n",
      "True\n"
     ]
    }
   ],
   "source": [
    "def check(string):\n",
    "    return all(string.count(i) <= 1 for i in string)\n",
    "\n",
    "def test_random():\n",
    "    return check('aljsdgljasiendlnfnf')\n",
    "\n",
    "def test_repeats():\n",
    "    return check('aoaoaouiu')\n",
    "\n",
    "def test_unique():\n",
    "    return check('1234dfghb')\n",
    "\n",
    "def test_null():\n",
    "    return check('')\n",
    "\n",
    "print(test_random()) # False\n",
    "print(test_repeats()) # False\n",
    "print(test_unique()) # True\n",
    "print(test_null()) # True"
   ]
  },
  {
   "cell_type": "markdown",
   "metadata": {
    "id": "udRiIK1cdt6E"
   },
   "source": [
    "# Задача 3\n",
    "Написать функцию, которая принимает положительное число и возвращает количество\n",
    "бит равных 1 в этом числе. Написать тесты для кода"
   ]
  },
  {
   "cell_type": "code",
   "execution_count": 3,
   "metadata": {
    "id": "6tkfDJRz6dp_"
   },
   "outputs": [
    {
     "name": "stdout",
     "output_type": "stream",
     "text": [
      "1\n",
      "8\n",
      "0\n",
      "2\n",
      "1\n"
     ]
    }
   ],
   "source": [
    "def bit(number):\n",
    "    return str(bin(int(number)))[2::].count('1')\n",
    "\n",
    "\n",
    "def test_1():\n",
    "    return bit(1)\n",
    "\n",
    "def test_random():\n",
    "    return bit(7896)\n",
    "\n",
    "def test_zero():\n",
    "    return bit(0)\n",
    "\n",
    "def test_string():\n",
    "    return bit('3')\n",
    "\n",
    "def test_mines():\n",
    "    return bit(-1)\n",
    "\n",
    "print(test_1())\n",
    "print(test_random())\n",
    "print(test_zero())\n",
    "print(test_string())\n",
    "print(test_mines())"
   ]
  },
  {
   "cell_type": "markdown",
   "metadata": {
    "id": "26dDUz-Ae17N"
   },
   "source": [
    "# Задача 4\n",
    "Написать функцию, которая принимает положительное число. Функция должна вернуть то,\n",
    "сколько раз необходимо перемножать цифры числа или результат перемножения, чтобы\n",
    "получилось число состоящее из одной цифры.\n",
    "Например, для входного числа:\n",
    "· 39 функция должна вернуть 3, так как 3*9=27 => 2*7=14 => 1*4=4\n",
    "· 4 функция должна вернуть 0, так как число уже состоит из одной цифры\n",
    "· 999 функция должна вернуть 4, так как 9*9*9=729 => 7*2*9=126 => 1*2*6=12 =>\n",
    "1*2=2. Написать тесты для кода"
   ]
  },
  {
   "cell_type": "code",
   "execution_count": 4,
   "metadata": {
    "id": "BH1A_Mgi6i4G"
   },
   "outputs": [
    {
     "name": "stdout",
     "output_type": "stream",
     "text": [
      "0\n",
      "3\n",
      "4\n"
     ]
    }
   ],
   "source": [
    "def magic(n):\n",
    "    count = 0\n",
    "    while n > 9:\n",
    "        n = multiply_digits(n)\n",
    "        count += 1\n",
    "    return count\n",
    "\n",
    "def multiply_digits(number):\n",
    "    result = 1\n",
    "    for digit in str(number):\n",
    "        result *= int(digit)\n",
    "    return result\n",
    "\n",
    "def test_4():\n",
    "    return (magic(4))\n",
    "\n",
    "def test_39():\n",
    "    return (magic(39))\n",
    "\n",
    "def test_999():\n",
    "    return (magic(999))\n",
    "\n",
    "print(test_4())\n",
    "print(test_39())\n",
    "print(test_999())"
   ]
  },
  {
   "cell_type": "markdown",
   "metadata": {
    "id": "0nS-kIa8g8vd"
   },
   "source": [
    "# Задача 5\n",
    "Написать функцию, которая принимает два целочисленных вектора одинаковой длины и\n",
    "возвращает среднеквадратическое отклонение двух векторов. Написать тесты для кода"
   ]
  },
  {
   "cell_type": "code",
   "execution_count": 5,
   "metadata": {
    "id": "8iphx4LM6xbx"
   },
   "outputs": [
    {
     "name": "stdout",
     "output_type": "stream",
     "text": [
      "0.0\n",
      "9.0\n",
      "1.0\n",
      "По условию векторы должны быть одинаковой длины\n"
     ]
    }
   ],
   "source": [
    "def mse(pred, true):\n",
    "    if len(pred) != len(true):\n",
    "        return \"По условию векторы должны быть одинаковой длины\"\n",
    "    n = len(pred)\n",
    "    squared_diff = [(pred[i] - true[i]) ** 2 for i in range(n)]\n",
    "    mse = sum(squared_diff) / n\n",
    "    return mse\n",
    "\n",
    "def test_0():\n",
    "    return mse([1, 2, 3], [1, 2, 3])\n",
    "\n",
    "def test_9():\n",
    "    return mse([1, 2, 3], [4, 5, 6])\n",
    "\n",
    "def test_1():\n",
    "    return mse([1, 2, 3], [2, 3, 4])\n",
    "\n",
    "def test_error():\n",
    "    return mse([1, 2, 3], [3, 4])\n",
    "\n",
    "print(test_0())\n",
    "print(test_9())\n",
    "print(test_1())\n",
    "print(test_error())"
   ]
  },
  {
   "cell_type": "markdown",
   "metadata": {
    "id": "vpIPKL439zkw"
   },
   "source": [
    "# Задача 6\n",
    "Написать функцию, принимающая целое положительное число. Функция должна вернуть\n",
    "строку вида “(n1**p1)(n2**p2)…(nk**pk)” представляющая разложение числа на простые\n",
    "множители (если pi == 1, то выводить только ni).\n",
    "Например, для числа 86240 функция должна вернуть “(2**5)(5)(7**2)(11)”. Написать тесты для кода"
   ]
  },
  {
   "cell_type": "code",
   "execution_count": 6,
   "metadata": {
    "id": "pFebmcZk94Jw"
   },
   "outputs": [
    {
     "name": "stdout",
     "output_type": "stream",
     "text": [
      "(2**5)(5)(7**2)(11)\n",
      "(2**5)(5)(7**2)(11)\n",
      "Это не положительное число\n",
      "(2)\n",
      "(2**10)\n",
      "(1000003)\n"
     ]
    }
   ],
   "source": [
    "def factorize(n):\n",
    "    multipliers = {}\n",
    "    i = 2\n",
    "    while i <= n:\n",
    "        if n % i == 0:\n",
    "            if i in multipliers:\n",
    "                multipliers[i] += 1\n",
    "            else:\n",
    "                multipliers[i] = 1\n",
    "            n = n / i\n",
    "        else:\n",
    "            i += 1\n",
    "    return multipliers\n",
    "\n",
    "def decompose(n):\n",
    "    if int(n) <= 0:\n",
    "        return \"Это не положительное число\"\n",
    "    result = ''\n",
    "    multipliers = factorize(int(n))\n",
    "    for i in multipliers.keys():\n",
    "        if multipliers[i] == 1:\n",
    "            result += f'({i})'\n",
    "        else:\n",
    "            result += f'({i}**{multipliers[i]})'\n",
    "    return result\n",
    "\n",
    "def test_86240():\n",
    "    return decompose(86240)\n",
    "\n",
    "def test_string():\n",
    "    return decompose(\"86240\")\n",
    "\n",
    "def test_0():\n",
    "    return decompose(0)\n",
    "\n",
    "def test_2():\n",
    "    return decompose(2)\n",
    "\n",
    "def test_1024():\n",
    "    return decompose(1024)\n",
    "\n",
    "def test_1000003():\n",
    "    return decompose(1000003)\n",
    "\n",
    "print(test_86240()) # (2**5)(5)(7**2)(11)\n",
    "print(test_string()) # (2**5)(5)(7**2)(11)\n",
    "print(test_0()) # Это не положительное число\n",
    "print(test_2()) # (2)\n",
    "print(test_1024()) # (2**10)\n",
    "print(test_1000003()) # (1000003)"
   ]
  },
  {
   "cell_type": "markdown",
   "metadata": {
    "id": "ps2s0BudX7A2"
   },
   "source": [
    "# Задача 7\n",
    "Написать функцию, принимающая целое число n, задающее количество кубиков. Функция\n",
    "должна определить, можно ли из данного кол-ва кубиков построить пирамиду, то есть\n",
    "можно ли представить число n как 1^2+2^2+3^2+…+k^2. Если можно, то функция должна\n",
    "вернуть k, иначе строку “It is impossible”. Написать тесты для кода"
   ]
  },
  {
   "cell_type": "code",
   "execution_count": 7,
   "metadata": {
    "id": "3YPjEXxhX_YT"
   },
   "outputs": [
    {
     "name": "stdout",
     "output_type": "stream",
     "text": [
      "k = 1\n",
      "It is impossible\n",
      "k = 2\n",
      "k = 3\n",
      "k = 4\n",
      "k = 5\n",
      "It is impossible\n",
      "k = 6\n"
     ]
    }
   ],
   "source": [
    "def pyramid(number):\n",
    "    k = 1\n",
    "    while number > 0:\n",
    "        number -= k**2\n",
    "        if number == 0:\n",
    "            return f'k = {k}'\n",
    "        k += 1\n",
    "    return \"It is impossible\"\n",
    "\n",
    "def test_1():\n",
    "    return pyramid(1)\n",
    "\n",
    "def test_Error3():\n",
    "    return pyramid(3)\n",
    "\n",
    "def test_5():\n",
    "    return pyramid(5)\n",
    "\n",
    "def test_14():\n",
    "    return pyramid(14)\n",
    "\n",
    "def test_30():\n",
    "    return pyramid(30)\n",
    "\n",
    "def test_55():\n",
    "    return pyramid(55)\n",
    "\n",
    "def test_Error77():\n",
    "    return pyramid(77)\n",
    "\n",
    "def test_91():\n",
    "    return pyramid(91)\n",
    "\n",
    "print(test_1())\n",
    "print(test_Error3())\n",
    "print(test_5())\n",
    "print(test_14())\n",
    "print(test_30())\n",
    "print(test_55())\n",
    "print(test_Error77())\n",
    "print(test_91())"
   ]
  },
  {
   "cell_type": "markdown",
   "metadata": {
    "id": "KeKgmIdAQMEJ"
   },
   "source": [
    "# Задача 8\n",
    "Функция принимает на вход положительное число и определяет является ли оно сбалансированным, т.е. сумма цифр до средних равна сумме цифр после. Средними в случае нечетного числа цифр считать одну цифру, в случае четного - две средних. Написать тесты для кода"
   ]
  },
  {
   "cell_type": "code",
   "execution_count": 8,
   "metadata": {
    "id": "gMAAqtqlQrZt"
   },
   "outputs": [
    {
     "name": "stdout",
     "output_type": "stream",
     "text": [
      "True\n",
      "False\n",
      "True\n",
      "True\n",
      "True\n",
      "False\n"
     ]
    }
   ],
   "source": [
    "def check(number):\n",
    "    digits = [int(digit) for digit in str(number)]\n",
    "    n = len(digits)\n",
    "    if n % 2 == 0:\n",
    "        mid = n // 2\n",
    "        left_sum = sum(digits[:mid])\n",
    "        right_sum = sum(digits[mid:])\n",
    "        return left_sum == right_sum\n",
    "    else:\n",
    "        mid = n // 2\n",
    "        left_sum = sum(digits[:mid])\n",
    "        right_sum = sum(digits[mid+1:])\n",
    "        return left_sum == right_sum\n",
    "\n",
    "def test_odd_balanced():\n",
    "    return check(12321) # True\n",
    "\n",
    "def test_odd_unbalanced():\n",
    "    return check(12345) # False\n",
    "\n",
    "def test_even_balanced():\n",
    "    return check(45345) # True\n",
    "\n",
    "def test_even_unbalanced():\n",
    "    return check(453345) # False\n",
    "\n",
    "def test_string_balanced():\n",
    "    return check('12321') # True\n",
    "\n",
    "def test_string_unbalanced():\n",
    "    return check('12345') # False\n",
    "\n",
    "\n",
    "print(test_odd_balanced()) # True\n",
    "print(test_odd_unbalanced()) # False\n",
    "print(test_even_balanced()) # True\n",
    "print(test_even_unbalanced()) # False\n",
    "print(test_string_balanced()) # True\n",
    "print(test_string_unbalanced()) # False"
   ]
  },
  {
   "cell_type": "code",
   "execution_count": null,
   "metadata": {},
   "outputs": [],
   "source": []
  }
 ],
 "metadata": {
  "colab": {
   "provenance": []
  },
  "kernelspec": {
   "display_name": "Python 3 (ipykernel)",
   "language": "python",
   "name": "python3"
  },
  "language_info": {
   "codemirror_mode": {
    "name": "ipython",
    "version": 3
   },
   "file_extension": ".py",
   "mimetype": "text/x-python",
   "name": "python",
   "nbconvert_exporter": "python",
   "pygments_lexer": "ipython3",
   "version": "3.10.9"
  }
 },
 "nbformat": 4,
 "nbformat_minor": 1
}
