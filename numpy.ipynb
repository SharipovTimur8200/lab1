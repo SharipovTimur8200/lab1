{
 "cells": [
  {
   "cell_type": "markdown",
   "metadata": {
    "id": "vC84e9kzyxPy"
   },
   "source": [
    "<h1>Импорт библиотек"
   ]
  },
  {
   "cell_type": "code",
   "execution_count": 6,
   "metadata": {
    "id": "cgKeNegmQG5S"
   },
   "outputs": [],
   "source": [
    "import numpy as np\n",
    "import matplotlib.pyplot as plt"
   ]
  },
  {
   "cell_type": "markdown",
   "metadata": {
    "id": "qFM9uVU2x4Ls"
   },
   "source": [
    "<h1>Задача 1. Дан набор из $p$ матриц размерностью $(n, n)$ и $p$ векторов размерностью $(n, 1)$, найти сумму произведений матриц на векторы. Написать тесты для кода"
   ]
  },
  {
   "cell_type": "code",
   "execution_count": 7,
   "metadata": {
    "id": "IAbUvEiYyWFF"
   },
   "outputs": [
    {
     "name": "stdout",
     "output_type": "stream",
     "text": [
      "56\n",
      "46\n",
      "45\n",
      "6\n",
      "21\n"
     ]
    }
   ],
   "source": [
    "import numpy as np\n",
    "\n",
    "def sum_prod(X, V):\n",
    "    '''\n",
    "    X - матрицы (n, n)\n",
    "    V - векторы (n, 1)\n",
    "    Гарантируется, что len(X) == len(V)\n",
    "    '''\n",
    "    return np.sum(np.dot(X, V))\n",
    "\n",
    "X = np.array([[1, 2], [3, 4]])\n",
    "V = np.array([[5], [6]])\n",
    "print(sum_prod(X, V))  # 56\n",
    "\n",
    "X = np.array([[1, 2, 3], [4, 5, 6]])\n",
    "V = np.array([[1], [2], [3]])\n",
    "print(sum_prod(X, V))  # 46\n",
    "\n",
    "X = np.array([[1, 2, 3], [4, 5, 6], [7, 8, 9]])\n",
    "V = np.array([[1], [1], [1]])\n",
    "print(sum_prod(X, V))  # 45\n",
    "\n",
    "X = np.array([[1, 0, 0], [0, 1, 0], [0, 0, 1]])\n",
    "V = np.array([[1], [2], [3]])\n",
    "print(sum_prod(X, V))  # 6\n",
    "\n",
    "X = np.array([[1, 2], [3, 4], [5, 6]])\n",
    "V = np.array([[1], [1]])\n",
    "print(sum_prod(X, V))  # 21"
   ]
  },
  {
   "cell_type": "markdown",
   "metadata": {
    "id": "TKwPG4fIy2w4"
   },
   "source": [
    "<h1>Задача 2. Дана матрица M, напишите функцию, которая бинаризует матрицу по некоторому threshold (то есть, все значения большие threshold становятся равными 1, иначе 0). Напишите тесты для кода"
   ]
  },
  {
   "cell_type": "code",
   "execution_count": 9,
   "metadata": {
    "id": "KQDNMgsjRNH7"
   },
   "outputs": [
    {
     "name": "stdout",
     "output_type": "stream",
     "text": [
      "[[0 1]\n",
      " [1 0]]\n",
      "[[0 1]\n",
      " [0 1]]\n",
      "[[0 1 1]\n",
      " [0 0 0]]\n",
      "[[0 0 0]\n",
      " [0 1 1]]\n",
      "[[1 1 1]\n",
      " [1 0 0]]\n"
     ]
    }
   ],
   "source": [
    "import numpy as np\n",
    "\n",
    "def binarize(M, threshold=0.5):\n",
    "    return np.where(M > threshold, 1, 0)\n",
    "\n",
    "M = np.array([[0.2, 0.8], [0.6, 0.4]])\n",
    "threshold = 0.5\n",
    "print(binarize(M, threshold))  # [[0 1] [1 0]]\n",
    "\n",
    "M = np.array([[0.1, 0.9], [0.3, 0.7]])\n",
    "threshold = 0.3\n",
    "print(binarize(M, threshold))  # [[0 1] [0 1]]\n",
    "\n",
    "M = np.array([[0.6, 0.7, 0.8], [0.1, 0.2, 0.3]])\n",
    "threshold = 0.6\n",
    "print(binarize(M, threshold))  # [[0 1 1] [0 0 0]]\n",
    "\n",
    "M = np.array([[0.4, 0.5, 0.6], [0.7, 0.8, 0.9]])\n",
    "threshold = 0.7\n",
    "print(binarize(M, threshold))  # [[0 0 0] [1 1 1]]\n",
    "\n",
    "M = np.array([[0.9, 0.8, 0.7], [0.6, 0.5, 0.4]])\n",
    "threshold = 0.5\n",
    "print(binarize(M, threshold))  # [[1 1 1] [1 0 0]]"
   ]
  },
  {
   "cell_type": "markdown",
   "metadata": {
    "id": "IY5L-h-7zWhN"
   },
   "source": [
    "<h1>Задача 3. Напишите функцию, которая возвращает уникальные элементы из каждой строки матрицы. Напишите такую же функцию, но для столбцов. Напишите тесты для кода"
   ]
  },
  {
   "cell_type": "code",
   "execution_count": 19,
   "metadata": {
    "id": "-8dEZhR0SBC-"
   },
   "outputs": [
    {
     "name": "stdout",
     "output_type": "stream",
     "text": [
      "[array([1, 2, 3]), array([4, 5, 6]), array([1, 2, 3])]\n",
      "[array([1, 4]), array([2, 5]), array([3, 6])]\n",
      "\n",
      "[array([1, 2, 3]), array([4, 5, 6]), array([7, 8, 9])]\n",
      "[array([1, 4, 7]), array([2, 5, 8]), array([3, 6, 9])]\n",
      "\n",
      "[array([1]), array([2]), array([3])]\n",
      "[array([1, 2, 3]), array([1, 2, 3]), array([1, 2, 3])]\n",
      "\n",
      "[array([1]), array([1]), array([1])]\n",
      "[array([1]), array([1]), array([1])]\n"
     ]
    }
   ],
   "source": [
    "import numpy as np\n",
    "\n",
    "def unique_rows(mat):\n",
    "    arrays = [np.unique(row) for row in mat]\n",
    "    return arrays\n",
    "\n",
    "def unique_columns(mat):\n",
    "    arrays = [np.unique(column) for column in mat.T]\n",
    "    return arrays\n",
    "\n",
    "mat = np.array(\n",
    "    [\n",
    "    [1, 2, 3], \n",
    "    [4, 5, 6], \n",
    "    [1, 2, 3]\n",
    "    ])\n",
    "print(unique_rows(mat))\n",
    "print(unique_columns(mat))\n",
    "print()\n",
    "\n",
    "mat = np.array(\n",
    "    [\n",
    "    [1, 2, 3], \n",
    "    [4, 5, 6], \n",
    "    [7, 8, 9]\n",
    "    ])\n",
    "print(unique_rows(mat))\n",
    "print(unique_columns(mat))\n",
    "print()\n",
    "\n",
    "mat = np.array(\n",
    "    [\n",
    "    [1, 1, 1], \n",
    "    [2, 2, 2], \n",
    "    [3, 3, 3]\n",
    "    ])\n",
    "print(unique_rows(mat))\n",
    "print(unique_columns(mat))\n",
    "print()\n",
    "\n",
    "mat = np.array(\n",
    "    [\n",
    "    [1, 1, 1], \n",
    "    [1, 1, 1], \n",
    "    [1, 1, 1]\n",
    "    ])\n",
    "print(unique_rows(mat))\n",
    "print(unique_columns(mat))"
   ]
  },
  {
   "cell_type": "markdown",
   "metadata": {
    "id": "roYAlo4Jz-lH"
   },
   "source": [
    "<h1>Задача 4. Напишите функцию, которая заполняет матрицу с размерами $(m, n)$ случайными числами, распределенными по нормальному закону. Затем считает мат. ожидание и дисперсию для каждого из столбцов и строк, а также строит для каждой строки и столбца гистограмму значений (использовать функцию hist из модуля matplotlib.plot)"
   ]
  },
  {
   "cell_type": "code",
   "execution_count": null,
   "metadata": {
    "id": "nZK_71hMSQzv"
   },
   "outputs": [],
   "source": [
    "# Your code goes here"
   ]
  },
  {
   "cell_type": "markdown",
   "metadata": {
    "id": "BDyATNdM0dJ2"
   },
   "source": [
    "<h1>Задача 5. Напишите функцию, которая заполняет матрицу $(m, n)$ в шахматном порядке заданными числами $a$ и $b$. Напишите тесты для кода"
   ]
  },
  {
   "cell_type": "code",
   "execution_count": 26,
   "metadata": {
    "id": "RWNJYWQGecS6"
   },
   "outputs": [
    {
     "name": "stdout",
     "output_type": "stream",
     "text": [
      "[[1. 0. 1. 0.]\n",
      " [0. 1. 0. 1.]\n",
      " [1. 0. 1. 0.]\n",
      " [0. 1. 0. 1.]]\n",
      "\n",
      "[[1. 2. 1. 2.]\n",
      " [2. 1. 2. 1.]\n",
      " [1. 2. 1. 2.]\n",
      " [2. 1. 2. 1.]\n",
      " [1. 2. 1. 2.]]\n",
      "\n",
      "[]\n"
     ]
    }
   ],
   "source": [
    "import numpy as np\n",
    "\n",
    "def chess(m, n, a, b):\n",
    "    mat = np.zeros((m, n))\n",
    "    for i in range(int(m)):\n",
    "        for j in range(int(n)):\n",
    "            if (i + j) % 2 == 0:\n",
    "                mat[i, j] = a\n",
    "            else:\n",
    "                mat[i, j] = b\n",
    "    return mat\n",
    "\n",
    "print(chess(4, 4, 1, 0))\n",
    "print()\n",
    "print(chess(5, 4, 1, 2))\n",
    "print()\n",
    "print(chess(1, 0, 1, 0))\n",
    "                "
   ]
  },
  {
   "cell_type": "markdown",
   "metadata": {
    "id": "-ymXLtTN0vB6"
   },
   "source": [
    "<h1>Задача 6. Напишите функцию, которая отрисовывает прямоугольник с заданными размерами (a, b) на изображении размера (m, n), цвет фона задайте в схеме RGB, как и цвет прямоугольника. Цвета также должны быть параметрами функции. Напишите аналогичную функцию но для овала с полуосями a и b. Напишите тесты для кода.\n",
    "Примечание: уравнение эллипса (границы овала) можно записать как:\n",
    "<h1>$\\frac{(x-x_0)^2}{a^2}+\\frac{(y-y_0)^2}{b^2}=1$"
   ]
  },
  {
   "cell_type": "code",
   "execution_count": 1,
   "metadata": {
    "id": "sNfl1t_kfOF4"
   },
   "outputs": [],
   "source": [
    "def draw_rectangle(a, b, m, n, rectangle_color, background_color):\n",
    "    # Your code goes here\n",
    "    pass\n",
    "\n",
    "def draw_ellipse(a, b, m, n, ellipse_color, background_color):\n",
    "    # Your code goes here\n",
    "    pass"
   ]
  },
  {
   "cell_type": "markdown",
   "metadata": {
    "id": "S82c38oz244H"
   },
   "source": [
    "<h1>Задача 7. Дан некий временной ряд. Для данного ряда нужно найти его: математическое ожидание, дисперсию, СКО, найти все локальные максимумы и минимумы (локальный максимум - это точка, которая больше своих соседних точек, а локальный минимум - это точка, которая меньше своих соседей), а также вычислить для данного ряда другой ряд, получаемый методом скользящего среднего с размером окна $p$.\n",
    "<h1>Примечание: метод скользящего среднего подразумевает нахождение среднего из подмножетсва ряда размером $p$"
   ]
  },
  {
   "cell_type": "code",
   "execution_count": null,
   "metadata": {
    "id": "Zb9mIVge5MMt"
   },
   "outputs": [],
   "source": [
    "# Your code goes here"
   ]
  },
  {
   "cell_type": "markdown",
   "metadata": {
    "id": "jPkylmOX5O9n"
   },
   "source": [
    "<h1> Задача 8. Дан некоторый вектор с целочисленными метками классов, напишите функцию, которая выполняет one-hot-encoding для данного вектора\n",
    "<h1> One-hot-encoding - представление, в котором на месте метки некоторого класса стоит 1, в остальных позициях стоит 0. Например для вектора [0, 2, 3, 0] one-hot-encoding выглядит как: [[1, 0, 0, 0], [0, 0, 1, 0], [0, 0, 0, 1], [1, 0, 0, 0]]"
   ]
  },
  {
   "cell_type": "code",
   "execution_count": null,
   "metadata": {
    "id": "Y-jlnZvw56lD"
   },
   "outputs": [],
   "source": [
    "# Your code goes here"
   ]
  }
 ],
 "metadata": {
  "colab": {
   "provenance": []
  },
  "kernelspec": {
   "display_name": "Python 3 (ipykernel)",
   "language": "python",
   "name": "python3"
  },
  "language_info": {
   "codemirror_mode": {
    "name": "ipython",
    "version": 3
   },
   "file_extension": ".py",
   "mimetype": "text/x-python",
   "name": "python",
   "nbconvert_exporter": "python",
   "pygments_lexer": "ipython3",
   "version": "3.10.9"
  }
 },
 "nbformat": 4,
 "nbformat_minor": 1
}
