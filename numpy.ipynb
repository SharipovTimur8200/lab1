{
 "cells": [
  {
   "cell_type": "markdown",
   "metadata": {
    "id": "vC84e9kzyxPy"
   },
   "source": [
    "<h1>Импорт библиотек"
   ]
  },
  {
   "cell_type": "code",
   "execution_count": 6,
   "metadata": {
    "id": "cgKeNegmQG5S"
   },
   "outputs": [],
   "source": [
    "import numpy as np\n",
    "import matplotlib.pyplot as plt"
   ]
  },
  {
   "cell_type": "markdown",
   "metadata": {
    "id": "qFM9uVU2x4Ls"
   },
   "source": [
    "<h1>Задача 1. Дан набор из $p$ матриц размерностью $(n, n)$ и $p$ векторов размерностью $(n, 1)$, найти сумму произведений матриц на векторы. Написать тесты для кода"
   ]
  },
  {
   "cell_type": "code",
   "execution_count": 37,
   "metadata": {
    "id": "IAbUvEiYyWFF"
   },
   "outputs": [
    {
     "name": "stdout",
     "output_type": "stream",
     "text": [
      "56\n",
      "46\n",
      "45\n",
      "6\n",
      "21\n"
     ]
    }
   ],
   "source": [
    "import numpy as np\n",
    "\n",
    "def sum_prod(X, V):\n",
    "    '''\n",
    "    X - матрицы (n, n)\n",
    "    V - векторы (n, 1)\n",
    "    Гарантируется, что len(X) == len(V)\n",
    "    '''\n",
    "    return np.sum(np.dot(X, V))\n",
    "\n",
    "def test_56():\n",
    "    X = np.array([[1, 2], [3, 4]])\n",
    "    V = np.array([[5], [6]])\n",
    "    return sum_prod(X, V)\n",
    "\n",
    "def test_46():\n",
    "    X = np.array([[1, 2, 3], [4, 5, 6]])\n",
    "    V = np.array([[1], [2], [3]])\n",
    "    return sum_prod(X, V)\n",
    "\n",
    "def test_45():\n",
    "    X = np.array([[1, 2, 3], [4, 5, 6], [7, 8, 9]])\n",
    "    V = np.array([[1], [1], [1]])\n",
    "    return sum_prod(X, V)\n",
    "\n",
    "def test_6():\n",
    "    X = np.array([[1, 0, 0], [0, 1, 0], [0, 0, 1]])\n",
    "    V = np.array([[1], [2], [3]])\n",
    "    return sum_prod(X, V)\n",
    "\n",
    "def test_21():\n",
    "    X = np.array([[1, 2], [3, 4], [5, 6]])\n",
    "    V = np.array([[1], [1]])\n",
    "    return sum_prod(X, V)\n",
    "\n",
    "print(test_56())\n",
    "print(test_46())\n",
    "print(test_45())\n",
    "print(test_6())\n",
    "print(test_21())"
   ]
  },
  {
   "cell_type": "markdown",
   "metadata": {
    "id": "TKwPG4fIy2w4"
   },
   "source": [
    "<h1>Задача 2. Дана матрица M, напишите функцию, которая бинаризует матрицу по некоторому threshold (то есть, все значения большие threshold становятся равными 1, иначе 0). Напишите тесты для кода"
   ]
  },
  {
   "cell_type": "code",
   "execution_count": 38,
   "metadata": {
    "id": "KQDNMgsjRNH7"
   },
   "outputs": [
    {
     "name": "stdout",
     "output_type": "stream",
     "text": [
      "[[0 1]\n",
      " [1 0]]\n",
      "\n",
      "[[0 1]\n",
      " [0 1]]\n",
      "\n",
      "[[0 1 1]\n",
      " [0 0 0]]\n",
      "\n",
      "[[0 0 0]\n",
      " [0 0 0]]\n",
      "\n",
      "[[1 1 1]\n",
      " [1 0 0]]\n"
     ]
    }
   ],
   "source": [
    "import numpy as np\n",
    "\n",
    "def binarize(M, threshold=0.5):\n",
    "    return np.where(M > threshold, 1, 0)\n",
    "\n",
    "def test_1():\n",
    "    M = np.array([[0.2, 0.8], [0.6, 0.4]])\n",
    "    threshold = 0.5\n",
    "    return binarize(M, threshold) # [[0 1] [1 0]]\n",
    "\n",
    "def test_2():\n",
    "    M = np.array([[0.1, 0.9], [0.3, 0.7]])\n",
    "    threshold = 0.3\n",
    "    return binarize(M, threshold) # [[0 1] [0 1]]\n",
    "\n",
    "def test_3():\n",
    "    M = np.array([[0.6, 0.7, 0.8], [0.1, 0.2, 0.3]])\n",
    "    threshold = 0.6\n",
    "    return binarize(M, threshold) # [[0 1 1] [0 0 0]]\n",
    "\n",
    "def test_4():\n",
    "    M = np.array([[0, 0.5, 0.6], [0.7, 0.5, -1]])\n",
    "    threshold = 0.7\n",
    "    return binarize(M, threshold) # [[0 0 0] [0 1 1]]\n",
    "\n",
    "def test_5():\n",
    "    M = np.array([[0.9, 0.8, 0.7], [0.6, 0.5, 0.4]])\n",
    "    threshold = 0.5\n",
    "    return binarize(M, threshold) # [[1 1 1] [1 0 0]]\n",
    "\n",
    "print(test_1())  # [[0 1] [1 0]]\n",
    "print()\n",
    "print(test_2()) # [[0 1] [0 1]]\n",
    "print()\n",
    "print(test_3()) # [[0 1 1] [0 0 0]]\n",
    "print()\n",
    "print(test_4()) # [[0 0 0] [0 1 1]]\n",
    "print()\n",
    "print(test_5()) # [[1 1 1] [1 0 0]]"
   ]
  },
  {
   "cell_type": "markdown",
   "metadata": {
    "id": "IY5L-h-7zWhN"
   },
   "source": [
    "<h1>Задача 3. Напишите функцию, которая возвращает уникальные элементы из каждой строки матрицы. Напишите такую же функцию, но для столбцов. Напишите тесты для кода"
   ]
  },
  {
   "cell_type": "code",
   "execution_count": 39,
   "metadata": {
    "id": "-8dEZhR0SBC-"
   },
   "outputs": [
    {
     "name": "stdout",
     "output_type": "stream",
     "text": [
      "[[1 2 3]\n",
      " [4 5 6]\n",
      " [1 2 3]]\n",
      "rows = [array([1, 2, 3]), array([4, 5, 6]), array([1, 2, 3])]\n",
      "columns = [array([1, 4]), array([2, 5]), array([3, 6])]\n",
      "\n",
      "[[1 2 3]\n",
      " [4 5 6]\n",
      " [7 8 9]]\n",
      "rows = [array([1, 2, 3]), array([4, 5, 6]), array([7, 8, 9])]\n",
      "columns = [array([1, 4, 7]), array([2, 5, 8]), array([3, 6, 9])]\n",
      "\n",
      "[[1 1 1]\n",
      " [2 2 2]\n",
      " [3 3 3]]\n",
      "rows = [array([1]), array([2]), array([3])]\n",
      "columns = [array([1, 2, 3]), array([1, 2, 3]), array([1, 2, 3])]\n",
      "\n",
      "[[1 1 1]\n",
      " [1 1 1]\n",
      " [1 1 1]]\n",
      "rows = [array([1]), array([1]), array([1])]\n",
      "columns = [array([1]), array([1]), array([1])]\n"
     ]
    }
   ],
   "source": [
    "import numpy as np\n",
    "\n",
    "def unique_rows(mat):\n",
    "    arrays = [np.unique(row) for row in mat]\n",
    "    return arrays\n",
    "\n",
    "def unique_columns(mat):\n",
    "    arrays = [np.unique(column) for column in mat.T]\n",
    "    return arrays\n",
    "\n",
    "mat = np.array(\n",
    "    [\n",
    "    [1, 2, 3], \n",
    "    [4, 5, 6], \n",
    "    [1, 2, 3]\n",
    "    ])\n",
    "print(mat)\n",
    "print(f'rows = {unique_rows(mat)}')\n",
    "print(f'columns = {unique_columns(mat)}')\n",
    "print()\n",
    "\n",
    "mat = np.array(\n",
    "    [\n",
    "    [1, 2, 3], \n",
    "    [4, 5, 6], \n",
    "    [7, 8, 9]\n",
    "    ])\n",
    "print(mat)\n",
    "print(f'rows = {unique_rows(mat)}')\n",
    "print(f'columns = {unique_columns(mat)}')\n",
    "print()\n",
    "\n",
    "mat = np.array(\n",
    "    [\n",
    "    [1, 1, 1], \n",
    "    [2, 2, 2], \n",
    "    [3, 3, 3]\n",
    "    ])\n",
    "print(mat)\n",
    "print(f'rows = {unique_rows(mat)}')\n",
    "print(f'columns = {unique_columns(mat)}')\n",
    "print()\n",
    "\n",
    "mat = np.array(\n",
    "    [\n",
    "    [1, 1, 1], \n",
    "    [1, 1, 1], \n",
    "    [1, 1, 1]\n",
    "    ])\n",
    "print(mat)\n",
    "print(f'rows = {unique_rows(mat)}')\n",
    "print(f'columns = {unique_columns(mat)}')"
   ]
  },
  {
   "cell_type": "markdown",
   "metadata": {
    "id": "roYAlo4Jz-lH"
   },
   "source": [
    "<h1>Задача 4. Напишите функцию, которая заполняет матрицу с размерами $(m, n)$ случайными числами, распределенными по нормальному закону. Затем считает мат. ожидание и дисперсию для каждого из столбцов и строк, а также строит для каждой строки и столбца гистограмму значений (использовать функцию hist из модуля matplotlib.plot)"
   ]
  },
  {
   "cell_type": "code",
   "execution_count": 77,
   "metadata": {
    "id": "nZK_71hMSQzv"
   },
   "outputs": [
    {
     "name": "stdout",
     "output_type": "stream",
     "text": [
      "[[-1.26720362 -0.11845225 -0.28464296  0.36124624]\n",
      " [ 0.36677455  0.9573501   0.01087517  0.74072956]\n",
      " [ 0.87235378  0.87567018  0.51509732 -0.67266853]]\n",
      "Row means: [-0.32726315  0.51893234  0.39761319]\n",
      "Row variances: [0.35073793 0.13066956 0.40330565]\n",
      "Column means: [-0.00935843  0.57152268  0.08044318  0.14310242]\n",
      "Column variances: [0.83368899 0.23914464 0.10901727 0.35674239]\n"
     ]
    },
    {
     "data": {
      "image/png": "[encoded data removed]",
      "text/plain": [
       "<Figure size 1200x800 with 12 Axes>"
      ]
     },
     "metadata": {},
     "output_type": "display_data"
    }
   ],
   "source": [
    "import numpy as np\n",
    "import matplotlib.pyplot as plt\n",
    "\n",
    "def fill_matrix(m, n):\n",
    "    return np.random.randn(m, n)\n",
    "\n",
    "def calculate_stats(mat):\n",
    "    row_means = np.mean(mat, axis = 1)\n",
    "    row_vars = np.var(mat, axis = 1)\n",
    "    col_means = np.mean(mat, axis = 0)\n",
    "    col_vars = np.var(mat, axis = 0)\n",
    "    return row_means, row_vars, col_means, col_vars\n",
    "\n",
    "def plot_histograms(mat):\n",
    "    n_rows, n_cols = mat.shape\n",
    "    fig, axes = plt.subplots(nrows = n_rows, ncols = n_cols, figsize = (12, 8))\n",
    "    for i in range(n_rows):\n",
    "        for j in range(n_cols):\n",
    "            axes[i, j].hist(mat[i, j], bins = 10)\n",
    "    plt.show()\n",
    "\n",
    "# Tests:\n",
    "m = 3\n",
    "n = 4\n",
    "mat = fill_matrix(m, n)\n",
    "print(mat)\n",
    "\n",
    "row_means, row_vars, col_means, col_vars = calculate_stats(mat)\n",
    "print(\"Row means:\", row_means)\n",
    "print(\"Row variances:\", row_vars)\n",
    "print(\"Column means:\", col_means)\n",
    "print(\"Column variances:\", col_vars)\n",
    "\n",
    "plot_histograms(mat)"
   ]
  },
  {
   "cell_type": "markdown",
   "metadata": {
    "id": "BDyATNdM0dJ2"
   },
   "source": [
    "<h1>Задача 5. Напишите функцию, которая заполняет матрицу $(m, n)$ в шахматном порядке заданными числами $a$ и $b$. Напишите тесты для кода"
   ]
  },
  {
   "cell_type": "code",
   "execution_count": 40,
   "metadata": {
    "id": "RWNJYWQGecS6"
   },
   "outputs": [
    {
     "name": "stdout",
     "output_type": "stream",
     "text": [
      "[[0. 1. 0. 1. 0. 1. 0. 1.]\n",
      " [1. 0. 1. 0. 1. 0. 1. 0.]\n",
      " [0. 1. 0. 1. 0. 1. 0. 1.]\n",
      " [1. 0. 1. 0. 1. 0. 1. 0.]\n",
      " [0. 1. 0. 1. 0. 1. 0. 1.]\n",
      " [1. 0. 1. 0. 1. 0. 1. 0.]\n",
      " [0. 1. 0. 1. 0. 1. 0. 1.]\n",
      " [1. 0. 1. 0. 1. 0. 1. 0.]]\n",
      "\n",
      "[[0. 1.]\n",
      " [1. 0.]\n",
      " [0. 1.]\n",
      " [1. 0.]\n",
      " [0. 1.]]\n",
      "\n",
      "[[ 1. -1.  1. -1.  1. -1.]]\n",
      "\n",
      "[]\n"
     ]
    }
   ],
   "source": [
    "import numpy as np\n",
    "\n",
    "def chess(m, n, a, b):\n",
    "    mat = np.zeros((m, n))\n",
    "    for i in range(int(m)):\n",
    "        for j in range(int(n)):\n",
    "            if (i + j) % 2 == 0:\n",
    "                mat[i, j] = a\n",
    "            else:\n",
    "                mat[i, j] = b\n",
    "    return mat\n",
    "\n",
    "def test_normal_chess():\n",
    "    return chess(8, 8, 0, 1)\n",
    "\n",
    "def test_column_chess():\n",
    "    return chess(5, 2, 0, 1)\n",
    "\n",
    "def test_row_chess():\n",
    "    return chess(1, 6, 1, -1)\n",
    "\n",
    "def test_null_chess():\n",
    "    return chess(70, 0, 1, 2)\n",
    "\n",
    "print(test_normal_chess())\n",
    "print()\n",
    "print(test_column_chess())\n",
    "print()\n",
    "print(test_row_chess())\n",
    "print()\n",
    "print(test_null_chess())\n",
    "                "
   ]
  },
  {
   "cell_type": "markdown",
   "metadata": {
    "id": "-ymXLtTN0vB6"
   },
   "source": [
    "<h1>Задача 6. Напишите функцию, которая отрисовывает прямоугольник с заданными размерами (a, b) на изображении размера (m, n), цвет фона задайте в схеме RGB, как и цвет прямоугольника. Цвета также должны быть параметрами функции. Напишите аналогичную функцию но для овала с полуосями a и b. Напишите тесты для кода.\n",
    "Примечание: уравнение эллипса (границы овала) можно записать как:\n",
    "<h1>$\\frac{(x-x_0)^2}{a^2}+\\frac{(y-y_0)^2}{b^2}=1$"
   ]
  },
  {
   "cell_type": "code",
   "execution_count": 89,
   "metadata": {
    "id": "sNfl1t_kfOF4"
   },
   "outputs": [
    {
     "name": "stderr",
     "output_type": "stream",
     "text": [
      "Clipping input data to the valid range for imshow with RGB data ([0..1] for floats or [0..255] for integers).\n"
     ]
    },
    {
     "data": {
      "image/png": "[encoded data removed]",
      "text/plain": [
       "<Figure size 640x480 with 1 Axes>"
      ]
     },
     "metadata": {},
     "output_type": "display_data"
    },
    {
     "name": "stderr",
     "output_type": "stream",
     "text": [
      "Clipping input data to the valid range for imshow with RGB data ([0..1] for floats or [0..255] for integers).\n"
     ]
    },
    {
     "data": {
      "image/png": "[encoded data removed]",
      "text/plain": [
       "<Figure size 640x480 with 1 Axes>"
      ]
     },
     "metadata": {},
     "output_type": "display_data"
    }
   ],
   "source": [
    "import numpy as np\n",
    "import matplotlib.pyplot as plt\n",
    "\n",
    "def draw_rectangle(a, b, m, n, rectangle_color, background_color):\n",
    "    img = np.zeros((m, n, 3))\n",
    "    img[:, :] = background_color\n",
    "    x_start = (m - a) // 2\n",
    "    x_end = x_start + a\n",
    "    y_start = (n - b) // 2\n",
    "    y_end = y_start + b\n",
    "    img[x_start:x_end, y_start:y_end] = rectangle_color\n",
    "    plt.imshow(img)\n",
    "    plt.axis('off')\n",
    "    plt.show()\n",
    "\n",
    "def draw_ellipse(a, b, m, n, ellipse_color, background_color):\n",
    "    img = np.zeros((m, n, 3))\n",
    "    img[:, :] = background_color\n",
    "    x0 = m // 2\n",
    "    y0 = n // 2\n",
    "    for x in range(m):\n",
    "        for y in range(n):\n",
    "            if ((x - x0) ** 2 / a ** 2 + (y - y0) ** 2 / b ** 2) <= 1:\n",
    "                img[x, y] = ellipse_color\n",
    "    plt.imshow(img)\n",
    "    plt.axis('off')\n",
    "    plt.show()\n",
    "\n",
    "a = 100\n",
    "b = 50\n",
    "m = 200\n",
    "n = 200\n",
    "rectangle_color = [0, 255, 0]\n",
    "background_color = [255, 255, 255]\n",
    "draw_rectangle(a, b, m, n, rectangle_color, background_color)\n",
    "\n",
    "a = 100\n",
    "b = 50\n",
    "m = 200\n",
    "n = 200\n",
    "ellipse_color = [0, 0, 255]\n",
    "background_color = [255, 255, 255]\n",
    "draw_ellipse(a, b, m, n, ellipse_color, background_color)"
   ]
  },
  {
   "cell_type": "markdown",
   "metadata": {
    "id": "S82c38oz244H"
   },
   "source": [
    "<h1>Задача 7. Дан некий временной ряд. Для данного ряда нужно найти его: математическое ожидание, дисперсию, СКО, найти все локальные максимумы и минимумы (локальный максимум - это точка, которая больше своих соседних точек, а локальный минимум - это точка, которая меньше своих соседей), а также вычислить для данного ряда другой ряд, получаемый методом скользящего среднего с размером окна $p$.\n",
    "<h1>Примечание: метод скользящего среднего подразумевает нахождение среднего из подмножетсва ряда размером $p$"
   ]
  },
  {
   "cell_type": "code",
   "execution_count": 75,
   "metadata": {
    "id": "Zb9mIVge5MMt"
   },
   "outputs": [
    {
     "name": "stdout",
     "output_type": "stream",
     "text": [
      "Временной ряд = [1, 2, 3, 4, 5]\n",
      "Математическое ожидание = 3.0\n",
      "Дисперсия = 2.0,\n",
      "СКО = 1.4142135623730951,\n",
      "Локальные максимумы = [5],\n",
      "Локальные минимумы = [1],\n",
      "p = 3,\n",
      "Скользящее среднее = [2.0, 3.0, 4.0],\n",
      "\n",
      "Временной ряд = [1, 3, 2, 4, 1, 5]\n",
      "Математическое ожидание = 2.6666666666666665\n",
      "Дисперсия = 2.222222222222222,\n",
      "СКО = 1.4907119849998596,\n",
      "Локальные максимумы = [3, 4, 5],\n",
      "Локальные минимумы = [1, 2, 1],\n",
      "p = 3,\n",
      "Скользящее среднее = [2.0, 3.0, 2.3333333333333335, 3.3333333333333335],\n"
     ]
    }
   ],
   "source": [
    "import numpy as np\n",
    "\n",
    "def calculate_statistics(time_series):\n",
    "    mean = np.mean(time_series)\n",
    "    variance = np.var(time_series)\n",
    "    std_deviation = np.std(time_series)\n",
    "    return mean, variance, std_deviation\n",
    "\n",
    "def find_local_extrema(time_series):\n",
    "    local_maxima = []\n",
    "    local_minima = []\n",
    "    if time_series[0] > time_series[1]:\n",
    "        local_maxima.append(time_series[0])\n",
    "    elif time_series[0] < time_series[1]:\n",
    "        local_minima.append(time_series[0])\n",
    "    for i in range(1, len(time_series) - 1):\n",
    "        if time_series[i] > time_series[i - 1] and time_series[i] > time_series[i + 1]:\n",
    "            local_maxima.append(time_series[i])\n",
    "        elif time_series[i] < time_series[i - 1] and time_series[i] < time_series[i + 1]:\n",
    "            local_minima.append(time_series[i])\n",
    "    if time_series[-1] > time_series[-2]:\n",
    "        local_maxima.append(time_series[-1])\n",
    "    elif time_series[-1] < time_series[-2]:\n",
    "        local_minima.append(time_series[-1])\n",
    "    return local_maxima, local_minima\n",
    "\n",
    "def moving_average(time_series, p):\n",
    "    moving_avg = []\n",
    "    for i in range(len(time_series) - p + 1):\n",
    "        subset = time_series[i:i + p]\n",
    "        avg = np.mean(subset)\n",
    "        moving_avg.append(avg)\n",
    "    return moving_avg\n",
    "\n",
    "def test(time_series, p = 2):\n",
    "    mean, variance, std_deviation = calculate_statistics(time_series)\n",
    "    local_maxima, local_minima = find_local_extrema(time_series)\n",
    "    moving_avg = moving_average(time_series, p)\n",
    "    \n",
    "    print(f'Временной ряд = {time_series}')\n",
    "    print(f'Математическое ожидание = {mean}')\n",
    "    print(f'Дисперсия = {variance},')\n",
    "    print(f'СКО = {std_deviation},')\n",
    "    print(f'Локальные максимумы = {local_maxima},')\n",
    "    print(f'Локальные минимумы = {local_minima},')\n",
    "    print(f'p = {p},')\n",
    "    print(f'Скользящее среднее = {moving_avg},')\n",
    "\n",
    "\n",
    "test([1, 2, 3, 4, 5], 3)\n",
    "print()\n",
    "test([1, 3, 2, 4, 1, 5], 3)"
   ]
  },
  {
   "cell_type": "markdown",
   "metadata": {
    "id": "jPkylmOX5O9n"
   },
   "source": [
    "<h1> Задача 8. Дан некоторый вектор с целочисленными метками классов, напишите функцию, которая выполняет one-hot-encoding для данного вектора\n",
    "<h1> One-hot-encoding - представление, в котором на месте метки некоторого класса стоит 1, в остальных позициях стоит 0. Например для вектора [0, 2, 3, 0] one-hot-encoding выглядит как: [[1, 0, 0, 0], [0, 0, 1, 0], [0, 0, 0, 1], [1, 0, 0, 0]]"
   ]
  },
  {
   "cell_type": "code",
   "execution_count": 71,
   "metadata": {
    "id": "Y-jlnZvw56lD"
   },
   "outputs": [
    {
     "name": "stdout",
     "output_type": "stream",
     "text": [
      "[[1. 0. 0. 0.]\n",
      " [0. 0. 1. 0.]\n",
      " [0. 0. 0. 1.]\n",
      " [1. 0. 0. 0.]]\n",
      "\n",
      "[[0. 0. 1. 0. 0.]\n",
      " [0. 0. 0. 1. 0.]\n",
      " [0. 0. 0. 0. 1.]\n",
      " [1. 0. 0. 0. 0.]]\n",
      "\n",
      "[[0. 1. 0. 0.]\n",
      " [1. 0. 0. 0.]\n",
      " [0. 0. 0. 1.]]\n",
      "\n",
      "[[1.]\n",
      " [1.]\n",
      " [1.]]\n",
      "\n",
      "[[0. 1.]\n",
      " [0. 1.]\n",
      " [0. 1.]]\n"
     ]
    }
   ],
   "source": [
    "import numpy as np\n",
    "\n",
    "def one_hot_encoding(labels):\n",
    "    n_classes = np.max(labels) + 1\n",
    "    encoded_labels = np.zeros((len(labels), n_classes))\n",
    "    for i, label in enumerate(labels):\n",
    "        encoded_labels[i, label] = 1\n",
    "    return encoded_labels\n",
    "\n",
    "print(one_hot_encoding([0, 2, 3, 0]))\n",
    "print()\n",
    "print(one_hot_encoding([2, 3, 4, 0]))\n",
    "print()\n",
    "print(one_hot_encoding([1, 0, 3]))\n",
    "print()\n",
    "print(one_hot_encoding([0, 0, 0]))\n",
    "print()\n",
    "print(one_hot_encoding([1, 1, 1]))"
   ]
  }
 ],
 "metadata": {
  "colab": {
   "provenance": []
  },
  "kernelspec": {
   "display_name": "Python 3 (ipykernel)",
   "language": "python",
   "name": "python3"
  },
  "language_info": {
   "codemirror_mode": {
    "name": "ipython",
    "version": 3
   },
   "file_extension": ".py",
   "mimetype": "text/x-python",
   "name": "python",
   "nbconvert_exporter": "python",
   "pygments_lexer": "ipython3",
   "version": "3.11.5"
  }
 },
 "nbformat": 4,
 "nbformat_minor": 4
}
