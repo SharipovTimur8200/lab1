{
 "cells": [
  {
   "cell_type": "markdown",
   "metadata": {
    "id": "vC84e9kzyxPy"
   },
   "source": [
    "<h1>Импорт библиотек"
   ]
  },
  {
   "cell_type": "code",
   "execution_count": 6,
   "metadata": {
    "id": "cgKeNegmQG5S"
   },
   "outputs": [],
   "source": [
    "import numpy as np\n",
    "import matplotlib.pyplot as plt"
   ]
  },
  {
   "cell_type": "markdown",
   "metadata": {
    "id": "qFM9uVU2x4Ls"
   },
   "source": [
    "<h1>Задача 1. Дан набор из $p$ матриц размерностью $(n, n)$ и $p$ векторов размерностью $(n, 1)$, найти сумму произведений матриц на векторы. Написать тесты для кода"
   ]
  },
  {
   "cell_type": "code",
   "execution_count": 4,
   "metadata": {
    "id": "IAbUvEiYyWFF"
   },
   "outputs": [
    {
     "name": "stdout",
     "output_type": "stream",
     "text": [
      "56\n",
      "46\n",
      "Некоректные вводные данные\n",
      "6\n",
      "21\n"
     ]
    }
   ],
   "source": [
    "import numpy as np\n",
    "\n",
    "def sum_prod(X, V):\n",
    "    '''\n",
    "    X - матрицы (n, n)\n",
    "    V - векторы (n, 1)\n",
    "    Гарантируется, что len(X) == len(V)\n",
    "    '''\n",
    "    if X.dtype != int or V.dtype != int:\n",
    "        return \"Некоректные вводные данные\"\n",
    "    if type(X) != np.ndarray or type(V) != np.ndarray:\n",
    "        X = np.array(X)\n",
    "        V = np.array(V)\n",
    "    return np.sum(np.dot(X, V))\n",
    "\n",
    "def test_56():\n",
    "    X = np.array([[1, 2], [3, 4]])\n",
    "    V = np.array([[5], [6]])\n",
    "    return sum_prod(X, V)\n",
    "\n",
    "def test_46():\n",
    "    X = np.array([[1, 2, 3], [4, 5, 6]])\n",
    "    V = np.array([[1], [2], [3]])\n",
    "    return sum_prod(X, V)\n",
    "\n",
    "def test_Error():\n",
    "    X = np.array([[1, 2, 3], [4, 5, 6], [7, 8, 9]])\n",
    "    V = np.array([['1'], ['1'], [1]])\n",
    "    return sum_prod(X, V)\n",
    "\n",
    "def test_6():\n",
    "    X = np.array([[1, 0, 0], [0, 1, 0], [0, 0, 1]])\n",
    "    V = np.array([[1], [2], [3]])\n",
    "    return sum_prod(X, V)\n",
    "\n",
    "def test_21():\n",
    "    X = np.array([[1, 2], [3, 4], [5, 6]])\n",
    "    V = np.array([[1], [1]])\n",
    "    return sum_prod(X, V)\n",
    "\n",
    "print(test_56())\n",
    "print(test_46())\n",
    "print(test_Error())\n",
    "print(test_6())\n",
    "print(test_21())"
   ]
  },
  {
   "cell_type": "markdown",
   "metadata": {
    "id": "TKwPG4fIy2w4"
   },
   "source": [
    "<h1>Задача 2. Дана матрица M, напишите функцию, которая бинаризует матрицу по некоторому threshold (то есть, все значения большие threshold становятся равными 1, иначе 0). Напишите тесты для кода"
   ]
  },
  {
   "cell_type": "code",
   "execution_count": 9,
   "metadata": {
    "id": "KQDNMgsjRNH7"
   },
   "outputs": [
    {
     "name": "stdout",
     "output_type": "stream",
     "text": [
      "[[0 1]\n",
      " [1 0]]\n",
      "\n",
      "Некоректные вводные данные\n",
      "\n",
      "[[0 1 1]\n",
      " [0 0 0]]\n",
      "\n",
      "[[0 0 0]\n",
      " [0 0 0]]\n",
      "\n",
      "[[1 1 1]\n",
      " [1 0 0]]\n"
     ]
    }
   ],
   "source": [
    "import numpy as np\n",
    "\n",
    "def binarize(M, threshold=0.5):\n",
    "    if M.dtype != int and M.dtype != float:\n",
    "        return \"Некоректные вводные данные\"\n",
    "    return np.where(M > threshold, 1, 0)\n",
    "\n",
    "def test_1():\n",
    "    M = np.array([[0.2, 0.8], [0.6, 0.4]])\n",
    "    threshold = 0.5\n",
    "    return binarize(M, threshold) # [[0 1] [1 0]]\n",
    "\n",
    "def test_Error():\n",
    "    M = np.array([['', 0.9], [0.3, \"fas\"]])\n",
    "    threshold = 0.3\n",
    "    return binarize(M, threshold) # Некоректные вводные данные\n",
    "\n",
    "def test_3():\n",
    "    M = np.array([[0.6, 0.7, 0.8], [0.1, 0.2, 0.3]])\n",
    "    threshold = 0.6\n",
    "    return binarize(M, threshold) # [[0 1 1] [0 0 0]]\n",
    "\n",
    "def test_4():\n",
    "    M = np.array([[0, 0.5, 0.6], [0.7, 0.5, -1]])\n",
    "    threshold = 0.7\n",
    "    return binarize(M, threshold) # [[0 0 0] [0 1 1]]\n",
    "\n",
    "def test_5():\n",
    "    M = np.array([[0.9, 0.8, 0.7], [0.6, 0.5, 0.4]])\n",
    "    threshold = 0.5\n",
    "    return binarize(M, threshold) # [[1 1 1] [1 0 0]]\n",
    "\n",
    "print(test_1())  # [[0 1] [1 0]]\n",
    "print()\n",
    "print(test_Error()) # Некоректные вводные данные\n",
    "print()\n",
    "print(test_3()) # [[0 1 1] [0 0 0]]\n",
    "print()\n",
    "print(test_4()) # [[0 0 0] [0 1 1]]\n",
    "print()\n",
    "print(test_5()) # [[1 1 1] [1 0 0]]"
   ]
  },
  {
   "cell_type": "markdown",
   "metadata": {
    "id": "IY5L-h-7zWhN"
   },
   "source": [
    "<h1>Задача 3. Напишите функцию, которая возвращает уникальные элементы из каждой строки матрицы. Напишите такую же функцию, но для столбцов. Напишите тесты для кода"
   ]
  },
  {
   "cell_type": "code",
   "execution_count": 13,
   "metadata": {
    "id": "-8dEZhR0SBC-"
   },
   "outputs": [
    {
     "name": "stdout",
     "output_type": "stream",
     "text": [
      "[[1 2 3]\n",
      " [4 5 6]\n",
      " [7 8 9]]\n",
      "В строках: [array([1, 2, 3]), array([4, 5, 6]), array([7, 8, 9])]\n",
      "В столбцах: [array([1, 4, 7]), array([2, 5, 8]), array([3, 6, 9])]\n",
      "\n",
      "[[1 1]\n",
      " [1 1]\n",
      " [1 1]]\n",
      "В строках: [array([1]), array([1]), array([1])]\n",
      "В столбцах: [array([1]), array([1])]\n",
      "\n",
      "[[1 2 3 4]\n",
      " [1 2 3 4]]\n",
      "В строках: [array([1, 2, 3, 4]), array([1, 2, 3, 4])]\n",
      "В столбцах: [array([1]), array([2]), array([3]), array([4])]\n",
      "\n"
     ]
    }
   ],
   "source": [
    "import numpy as np\n",
    "\n",
    "def unique_rows(mat):\n",
    "    arrays = [np.unique(row) for row in mat]\n",
    "    return arrays\n",
    "\n",
    "def unique_columns(mat):\n",
    "    arrays = [np.unique(column) for column in mat.T]\n",
    "    return arrays\n",
    "\n",
    "def test_allanother():\n",
    "    mat = np.array(\n",
    "        [\n",
    "        [1, 2, 3], \n",
    "        [4, 5, 6], \n",
    "        [7, 8, 9]\n",
    "        ])\n",
    "    print(mat)\n",
    "    print(f'В строках: {unique_rows(mat)}')\n",
    "    print(f'В столбцах: {unique_columns(mat)}')\n",
    "    print()\n",
    "    \n",
    "def test_one_only():\n",
    "    mat = np.array(\n",
    "        [\n",
    "        [1, 1], \n",
    "        [1, 1], \n",
    "        [1, 1]\n",
    "        ])\n",
    "    print(mat)\n",
    "    print(f'В строках: {unique_rows(mat)}')\n",
    "    print(f'В столбцах: {unique_columns(mat)}')\n",
    "    print()\n",
    "    \n",
    "def test_one_two_three_four():\n",
    "    mat = np.array(\n",
    "        [\n",
    "        [1, 2, 3, 4], \n",
    "        [1, 2, 3, 4]\n",
    "        ])\n",
    "    print(mat)\n",
    "    print(f'В строках: {unique_rows(mat)}')\n",
    "    print(f'В столбцах: {unique_columns(mat)}')\n",
    "    print()\n",
    "\n",
    "test_allanother()\n",
    "test_one_only()\n",
    "test_one_two_three_four()"
   ]
  },
  {
   "cell_type": "markdown",
   "metadata": {
    "id": "roYAlo4Jz-lH"
   },
   "source": [
    "<h1>Задача 4. Напишите функцию, которая заполняет матрицу с размерами $(m, n)$ случайными числами, распределенными по нормальному закону. Затем считает мат. ожидание и дисперсию для каждого из столбцов и строк, а также строит для каждой строки и столбца гистограмму значений (использовать функцию hist из модуля matplotlib.plot)"
   ]
  },
  {
   "cell_type": "code",
   "execution_count": 106,
   "metadata": {
    "id": "nZK_71hMSQzv",
    "scrolled": true
   },
   "outputs": [
    {
     "name": "stdout",
     "output_type": "stream",
     "text": [
      "[]\n",
      "Мат  ожидание строки []\n",
      "Дисперсия строки [nan]\n",
      "Мат  ожидание столбца [nan]\n",
      "Дисперсия столбца [nan]\n",
      "\n",
      "\n",
      "[[4]]\n",
      "Мат  ожидание строки [4.]\n",
      "Дисперсия строки [4.]\n",
      "Мат  ожидание столбца [4.]\n",
      "Дисперсия столбца [0.]\n"
     ]
    },
    {
     "data": {
      "image/png": "[encoded data removed]",
      "text/plain": [
       "<Figure size 640x480 with 2 Axes>"
      ]
     },
     "metadata": {},
     "output_type": "display_data"
    },
    {
     "name": "stdout",
     "output_type": "stream",
     "text": [
      "[[5 7]\n",
      " [5 0]]\n",
      "Мат  ожидание строки [6.  2.5]\n",
      "Дисперсия строки [5.  3.5]\n",
      "Мат  ожидание столбца [5.  3.5]\n",
      "Дисперсия столбца [ 0.   12.25]\n"
     ]
    },
    {
     "data": {
      "image/png": "[encoded data removed]",
      "text/plain": [
       "<Figure size 640x480 with 4 Axes>"
      ]
     },
     "metadata": {},
     "output_type": "display_data"
    },
    {
     "name": "stdout",
     "output_type": "stream",
     "text": [
      "[[3 4 7]\n",
      " [6 3 7]\n",
      " [9 1 3]]\n",
      "Мат  ожидание строки [4.66666667 5.33333333 4.33333333]\n",
      "Дисперсия строки [6.         2.66666667 5.66666667]\n",
      "Мат  ожидание столбца [6.         2.66666667 5.66666667]\n",
      "Дисперсия столбца [6.         1.55555556 3.55555556]\n"
     ]
    },
    {
     "data": {
      "image/png": "[encoded data removed]",
      "text/plain": [
       "<Figure size 640x480 with 6 Axes>"
      ]
     },
     "metadata": {},
     "output_type": "display_data"
    },
    {
     "name": "stdout",
     "output_type": "stream",
     "text": [
      "[[4 1 4]\n",
      " [7 7 6]]\n",
      "Мат  ожидание строки [3.         6.66666667]\n",
      "Дисперсия строки [5.5 4.  5. ]\n",
      "Мат  ожидание столбца [5.5 4.  5. ]\n",
      "Дисперсия столбца [2.25 9.   1.  ]\n"
     ]
    },
    {
     "data": {
      "image/png": "[encoded data removed]",
      "text/plain": [
       "<Figure size 640x480 with 5 Axes>"
      ]
     },
     "metadata": {},
     "output_type": "display_data"
    },
    {
     "name": "stdout",
     "output_type": "stream",
     "text": [
      "[[2 7]\n",
      " [5 1]\n",
      " [4 6]]\n",
      "Мат  ожидание строки [4.5 3.  5. ]\n",
      "Дисперсия строки [3.66666667 4.66666667]\n",
      "Мат  ожидание столбца [3.66666667 4.66666667]\n",
      "Дисперсия столбца [1.55555556 6.88888889]\n"
     ]
    },
    {
     "data": {
      "image/png": "[encoded data removed]",
      "text/plain": [
       "<Figure size 640x480 with 4 Axes>"
      ]
     },
     "metadata": {},
     "output_type": "display_data"
    }
   ],
   "source": [
    "import numpy as np\n",
    "import matplotlib.pyplot as plt\n",
    "\n",
    "def fill_matrix(m, n):\n",
    "    m = int(m)\n",
    "    n = int(n)\n",
    "    if m < 0 or n < 0 :\n",
    "        return \"Некоректные вводные данные\"\n",
    "    return np.random.randint(0, 10, size = (m, n))\n",
    "\n",
    "def calculate_stats(mat):\n",
    "    row_means = np.mean(mat, axis = 1)\n",
    "    row_vars = np.var(mat, axis = 1)\n",
    "    col_means = np.mean(mat, axis = 0)\n",
    "    col_vars = np.var(mat, axis = 0)\n",
    "    return row_means, row_vars, col_means, col_vars\n",
    "\n",
    "def print_stats(mat):\n",
    "    print(mat)\n",
    "    row_means, row_vars, col_means, col_vars = calculate_stats(mat)\n",
    "    print(\"Мат  ожидание строки\", row_means)\n",
    "    print(\"Дисперсия строки\", col_means)\n",
    "    print(\"Мат  ожидание столбца\", col_means)\n",
    "    print(\"Дисперсия столбца\", col_vars)\n",
    "\n",
    "def plot_histograms(matrix):\n",
    "    m, n = matrix.shape\n",
    "    for i in range(m):\n",
    "        plt.subplot(2, n, i + 1)\n",
    "        plt.hist(matrix[i, :], bins = 50)\n",
    "        plt.title(\"Строка {}\".format(i + 1))\n",
    "    for i in range(n):\n",
    "        plt.subplot(2, n, n + i + 1)\n",
    "        plt.hist(matrix[:, i], bins = 50)\n",
    "        plt.title(\"Столбец {}\".format(i + 1))\n",
    "    plt.tight_layout()\n",
    "    plt.show()\n",
    "\n",
    "def start(a, b):\n",
    "    a = int(a)\n",
    "    b = int(b)\n",
    "    if  a < 0 or b < 0:\n",
    "        print()\n",
    "        return\n",
    "    mat = fill_matrix(a, b)\n",
    "    print_stats(mat)\n",
    "    if a < 1 or b < 1:\n",
    "        print()\n",
    "        return\n",
    "    plot_histograms(mat)\n",
    "\n",
    "start(0, 1)\n",
    "start(1, -7)\n",
    "\n",
    "start(\"1\", 1)\n",
    "start(2, '2')\n",
    "start(3, 3)\n",
    "\n",
    "start(2, 3)\n",
    "start(3, 2) # гистограмма 3-ей строки наложилась на 1-ый столбец"
   ]
  },
  {
   "cell_type": "markdown",
   "metadata": {
    "id": "BDyATNdM0dJ2"
   },
   "source": [
    "<h1>Задача 5. Напишите функцию, которая заполняет матрицу $(m, n)$ в шахматном порядке заданными числами $a$ и $b$. Напишите тесты для кода"
   ]
  },
  {
   "cell_type": "code",
   "execution_count": 68,
   "metadata": {
    "id": "RWNJYWQGecS6"
   },
   "outputs": [
    {
     "name": "stdout",
     "output_type": "stream",
     "text": [
      "[[0. 1. 0. 1. 0. 1. 0. 1.]\n",
      " [1. 0. 1. 0. 1. 0. 1. 0.]\n",
      " [0. 1. 0. 1. 0. 1. 0. 1.]\n",
      " [1. 0. 1. 0. 1. 0. 1. 0.]\n",
      " [0. 1. 0. 1. 0. 1. 0. 1.]\n",
      " [1. 0. 1. 0. 1. 0. 1. 0.]\n",
      " [0. 1. 0. 1. 0. 1. 0. 1.]\n",
      " [1. 0. 1. 0. 1. 0. 1. 0.]]\n",
      "\n",
      "[[0. 1.]\n",
      " [1. 0.]\n",
      " [0. 1.]\n",
      " [1. 0.]\n",
      " [0. 1.]]\n",
      "\n",
      "[[ 1. -1.  1. -1.  1. -1.]]\n",
      "\n",
      "[]\n",
      "\n",
      "Некоректные вводные данные\n",
      "\n",
      "Некоректные вводные данные\n"
     ]
    }
   ],
   "source": [
    "import numpy as np\n",
    "\n",
    "def chess(m, n, a, b):\n",
    "    if type(m) != int or type(n) != int or type(a) != int or type(b) != int or m < 0 or n < 0: \n",
    "        return \"Некоректные вводные данные\"\n",
    "    mat = np.zeros((m, n))\n",
    "    for i in range(int(m)):\n",
    "        for j in range(int(n)):\n",
    "            if (i + j) % 2 == 0:\n",
    "                mat[i, j] = a\n",
    "            else:\n",
    "                mat[i, j] = b\n",
    "    return mat\n",
    "\n",
    "def test_normal_chess():\n",
    "    return chess(8, 8, 0, 1)\n",
    "\n",
    "def test_column_chess():\n",
    "    return chess(5, 2, 0, 1)\n",
    "\n",
    "def test_row_chess():\n",
    "    return chess(1, 6, 1, -1)\n",
    "\n",
    "def test_null_chess():\n",
    "    return chess(70, 0, 1, 2)\n",
    "    \n",
    "def test_Error_minus():\n",
    "    return chess(-1, 3, 0, 1)\n",
    "\n",
    "def test_Error_string():\n",
    "    return chess(6, 'a', 0, 1)\n",
    "\n",
    "print(test_normal_chess())\n",
    "print()\n",
    "print(test_column_chess())\n",
    "print()\n",
    "print(test_row_chess())\n",
    "print()\n",
    "print(test_null_chess())\n",
    "print()\n",
    "print(test_Error_minus())\n",
    "print()\n",
    "print(test_Error_string())"
   ]
  },
  {
   "cell_type": "markdown",
   "metadata": {
    "id": "-ymXLtTN0vB6"
   },
   "source": [
    "<h1>Задача 6. Напишите функцию, которая отрисовывает прямоугольник с заданными размерами (a, b) на изображении размера (m, n), цвет фона задайте в схеме RGB, как и цвет прямоугольника. Цвета также должны быть параметрами функции. Напишите аналогичную функцию но для овала с полуосями a и b. Напишите тесты для кода.\n",
    "Примечание: уравнение эллипса (границы овала) можно записать как:\n",
    "<h1>$\\frac{(x-x_0)^2}{a^2}+\\frac{(y-y_0)^2}{b^2}=1$"
   ]
  },
  {
   "cell_type": "code",
   "execution_count": 112,
   "metadata": {
    "id": "sNfl1t_kfOF4",
    "scrolled": true
   },
   "outputs": [
    {
     "name": "stderr",
     "output_type": "stream",
     "text": [
      "Clipping input data to the valid range for imshow with RGB data ([0..1] for floats or [0..255] for integers).\n"
     ]
    },
    {
     "data": {
      "image/png": "[encoded data removed]",
      "text/plain": [
       "<Figure size 640x480 with 1 Axes>"
      ]
     },
     "metadata": {},
     "output_type": "display_data"
    },
    {
     "name": "stderr",
     "output_type": "stream",
     "text": [
      "Clipping input data to the valid range for imshow with RGB data ([0..1] for floats or [0..255] for integers).\n"
     ]
    },
    {
     "data": {
      "image/png": "[encoded data removed]",
      "text/plain": [
       "<Figure size 640x480 with 1 Axes>"
      ]
     },
     "metadata": {},
     "output_type": "display_data"
    }
   ],
   "source": [
    "import numpy as np\n",
    "import matplotlib.pyplot as plt\n",
    "\n",
    "def draw_rectangle(a, b, m, n):\n",
    "    rectangle_color = [0, 255, 0]\n",
    "    background_color = [255, 255, 255]\n",
    "    img = np.zeros((m, n, 3))\n",
    "    img[:, :] = background_color\n",
    "    x_start = (m - a) // 2\n",
    "    x_end = x_start + a\n",
    "    y_start = (n - b) // 2\n",
    "    y_end = y_start + b\n",
    "    img[x_start:x_end, y_start:y_end] = rectangle_color\n",
    "    plt.imshow(img)\n",
    "    plt.axis('off')\n",
    "    plt.show()\n",
    "\n",
    "def draw_ellipse(a, b, m, n):\n",
    "    ellipse_color = [0, 0, 255]\n",
    "    background_color = [255, 255, 255]\n",
    "    img = np.zeros((m, n, 3))\n",
    "    img[:, :] = background_color\n",
    "    x0 = m // 2\n",
    "    y0 = n // 2\n",
    "    for x in range(m):\n",
    "        for y in range(n):\n",
    "            if ((x - x0) ** 2 / a ** 2 + (y - y0) ** 2 / b ** 2) <= 1:\n",
    "                img[x, y] = ellipse_color\n",
    "    plt.imshow(img)\n",
    "    plt.axis('off')\n",
    "    plt.show()\n",
    "\n",
    "a = 100\n",
    "b = 50\n",
    "m = 200\n",
    "n = 200\n",
    "draw_rectangle(a, b, m, n)\n",
    "draw_ellipse(a, b, m, n)"
   ]
  },
  {
   "cell_type": "markdown",
   "metadata": {
    "id": "S82c38oz244H"
   },
   "source": [
    "<h1>Задача 7. Дан некий временной ряд. Для данного ряда нужно найти его: математическое ожидание, дисперсию, СКО, найти все локальные максимумы и минимумы (локальный максимум - это точка, которая больше своих соседних точек, а локальный минимум - это точка, которая меньше своих соседей), а также вычислить для данного ряда другой ряд, получаемый методом скользящего среднего с размером окна $p$.\n",
    "<h1>Примечание: метод скользящего среднего подразумевает нахождение среднего из подмножетсва ряда размером $p$"
   ]
  },
  {
   "cell_type": "code",
   "execution_count": 76,
   "metadata": {
    "id": "Zb9mIVge5MMt"
   },
   "outputs": [
    {
     "name": "stdout",
     "output_type": "stream",
     "text": [
      "Временной ряд = [1, 2, 3, 4, 5]\n",
      "Математическое ожидание = 3.0\n",
      "Дисперсия = 2.0,\n",
      "СКО = 1.4142135623730951,\n",
      "Локальные максимумы = [5],\n",
      "Локальные минимумы = [1],\n",
      "размер окна = 3,\n",
      "Скользящее среднее = [2. 3. 4.],\n",
      "\n",
      "Временной ряд = [1, 3, 2, 4, 1, 5]\n",
      "Математическое ожидание = 2.6666666666666665\n",
      "Дисперсия = 2.222222222222222,\n",
      "СКО = 1.4907119849998596,\n",
      "Локальные максимумы = [3, 4, 5],\n",
      "Локальные минимумы = [1, 2, 1],\n",
      "размер окна = 3,\n",
      "Скользящее среднее = [2.         3.         2.33333333 3.33333333],\n",
      "\n",
      "Временной ряд = [3, 2, 9, 7, 9, 2, 4]\n",
      "Математическое ожидание = 5.142857142857143\n",
      "Дисперсия = 8.408163265306124,\n",
      "СКО = 2.899683304312063,\n",
      "Локальные максимумы = [3, 9, 9, 4],\n",
      "Локальные минимумы = [2, 7, 2],\n",
      "размер окна = 8,\n",
      "Скользящее среднее = [4.5 4.5],\n"
     ]
    }
   ],
   "source": [
    "import numpy as np\n",
    "\n",
    "def calculate_statistics(time_series):\n",
    "    mean = np.mean(time_series)\n",
    "    variance = np.var(time_series)\n",
    "    std_deviation = np.std(time_series)\n",
    "    return mean, variance, std_deviation\n",
    "\n",
    "def find_local_extrema(time_series):\n",
    "    local_maxima = []\n",
    "    local_minima = []\n",
    "    if time_series[0] > time_series[1]:\n",
    "        local_maxima.append(time_series[0])\n",
    "    elif time_series[0] < time_series[1]:\n",
    "        local_minima.append(time_series[0])\n",
    "    for i in range(1, len(time_series) - 1):\n",
    "        if time_series[i] > time_series[i - 1] and time_series[i] > time_series[i + 1]:\n",
    "            local_maxima.append(time_series[i])\n",
    "        elif time_series[i] < time_series[i - 1] and time_series[i] < time_series[i + 1]:\n",
    "            local_minima.append(time_series[i])\n",
    "    if time_series[-1] > time_series[-2]:\n",
    "        local_maxima.append(time_series[-1])\n",
    "    elif time_series[-1] < time_series[-2]:\n",
    "        local_minima.append(time_series[-1])\n",
    "    return local_maxima, local_minima\n",
    "\n",
    "def moving_average(time_series, p):\n",
    "    return np.convolve(time_series, np.ones(p), 'valid') / p\n",
    "\n",
    "def test(time_series, p = 2):\n",
    "    mean, variance, std_deviation = calculate_statistics(time_series)\n",
    "    local_maxima, local_minima = find_local_extrema(time_series)\n",
    "    moving_avg = moving_average(time_series, p)\n",
    "    \n",
    "    print(f'Временной ряд = {time_series}')\n",
    "    print(f'Математическое ожидание = {mean}')\n",
    "    print(f'Дисперсия = {variance},')\n",
    "    print(f'СКО = {std_deviation},')\n",
    "    print(f'Локальные максимумы = {local_maxima},')\n",
    "    print(f'Локальные минимумы = {local_minima},')\n",
    "    print(f'размер окна = {p},')\n",
    "    print(f'Скользящее среднее = {moving_avg},')\n",
    "\n",
    "\n",
    "test([1, 2, 3, 4, 5], 3)\n",
    "print()\n",
    "test([1, 3, 2, 4, 1, 5], 3)\n",
    "print()\n",
    "test([3, 2, 9, 7, 9, 2, 4], 8)"
   ]
  },
  {
   "cell_type": "markdown",
   "metadata": {
    "id": "jPkylmOX5O9n"
   },
   "source": [
    "<h1> Задача 8. Дан некоторый вектор с целочисленными метками классов, напишите функцию, которая выполняет one-hot-encoding для данного вектора\n",
    "<h1> One-hot-encoding - представление, в котором на месте метки некоторого класса стоит 1, в остальных позициях стоит 0. Например для вектора [0, 2, 3, 0] one-hot-encoding выглядит как: [[1, 0, 0, 0], [0, 0, 1, 0], [0, 0, 0, 1], [1, 0, 0, 0]]"
   ]
  },
  {
   "cell_type": "code",
   "execution_count": 71,
   "metadata": {
    "id": "Y-jlnZvw56lD"
   },
   "outputs": [
    {
     "name": "stdout",
     "output_type": "stream",
     "text": [
      "[[1. 0. 0. 0.]\n",
      " [0. 0. 1. 0.]\n",
      " [0. 0. 0. 1.]\n",
      " [1. 0. 0. 0.]]\n",
      "\n",
      "[[0. 0. 1. 0. 0.]\n",
      " [0. 0. 0. 1. 0.]\n",
      " [0. 0. 0. 0. 1.]\n",
      " [1. 0. 0. 0. 0.]]\n",
      "\n",
      "[[0. 1. 0. 0.]\n",
      " [1. 0. 0. 0.]\n",
      " [0. 0. 0. 1.]]\n",
      "\n",
      "[[1.]\n",
      " [1.]\n",
      " [1.]]\n",
      "\n",
      "[[0. 1.]\n",
      " [0. 1.]\n",
      " [0. 1.]]\n"
     ]
    }
   ],
   "source": [
    "import numpy as np\n",
    "\n",
    "def one_hot_encoding(labels):\n",
    "    n_classes = np.max(labels) + 1\n",
    "    encoded_labels = np.zeros((len(labels), n_classes))\n",
    "    for i, label in enumerate(labels):\n",
    "        encoded_labels[i, label] = 1\n",
    "    return encoded_labels\n",
    "\n",
    "print(one_hot_encoding([0, 2, 3, 0]))\n",
    "print()\n",
    "print(one_hot_encoding([2, 3, 4, 0]))\n",
    "print()\n",
    "print(one_hot_encoding([1, 0, 3]))\n",
    "print()\n",
    "print(one_hot_encoding([0, 0, 0]))\n",
    "print()\n",
    "print(one_hot_encoding([1, 1, 1]))"
   ]
  }
 ],
 "metadata": {
  "colab": {
   "provenance": []
  },
  "kernelspec": {
   "display_name": "Python 3 (ipykernel)",
   "language": "python",
   "name": "python3"
  },
  "language_info": {
   "codemirror_mode": {
    "name": "ipython",
    "version": 3
   },
   "file_extension": ".py",
   "mimetype": "text/x-python",
   "name": "python",
   "nbconvert_exporter": "python",
   "pygments_lexer": "ipython3",
   "version": "3.11.5"
  }
 },
 "nbformat": 4,
 "nbformat_minor": 4
}
